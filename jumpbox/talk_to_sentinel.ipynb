{
 "cells": [
  {
   "cell_type": "code",
   "execution_count": 1,
   "id": "33d38c97-b765-4e87-a866-e065742082d5",
   "metadata": {},
   "outputs": [],
   "source": [
    "import numpy as np\n",
    "import os\n",
    "import time\n",
    "import requests\n",
    "import json\n",
    "import redis\n",
    "from redis.sentinel import Sentinel"
   ]
  },
  {
   "cell_type": "code",
   "execution_count": 6,
   "id": "8eaecf10",
   "metadata": {},
   "outputs": [],
   "source": [
    "def print_memory_info(redis_client):\n",
    "    memory_info = redis_client.info('memory')\n",
    "    print(f\"Current Redis memory usage: {memory_info['used_memory_human']}\")\n",
    "    print(f\"Peak memory usage: {memory_info['used_memory_peak_human']}\")\n",
    "    print(f\"Memory limit: {memory_info['maxmemory_human']}\")\n",
    "\n",
    "def print_eviction_policy(redis_client):\n",
    "    current_policy = redis_client.config_get('maxmemory-policy')\n",
    "    print(f\"Current policy: {current_policy}\")\n",
    "    \n",
    "def get_evicted_cnt(redis_client):\n",
    "    stats = redis_client.info()\n",
    "    current_evicted = stats['evicted_keys']\n",
    "    return current_evicted\n"
   ]
  },
  {
   "cell_type": "code",
   "execution_count": 3,
   "id": "e24330e9",
   "metadata": {},
   "outputs": [
    {
     "name": "stdout",
     "output_type": "stream",
     "text": [
      "Master: 172.28.0.2:6379\n",
      "Current Redis memory usage: 1.68M\n",
      "Peak memory usage: 1.68M\n",
      "Memory limit: 3.00M\n",
      "Current policy: {'maxmemory-policy': 'allkeys-lru'}\n",
      "\n",
      "Slave: 172.28.0.4:6379\n",
      "Current Redis memory usage: 1.59M\n",
      "Peak memory usage: 1.59M\n",
      "Memory limit: 0B\n",
      "Current policy: {'maxmemory-policy': 'noeviction'}\n"
     ]
    }
   ],
   "source": [
    "sentinel = Sentinel([('redis-sentinel', 26379)], socket_timeout=0.1)\n",
    "master_client = sentinel.master_for('mymaster', socket_timeout=0.1)    \n",
    "\n",
    "master_info = sentinel.discover_master('mymaster')\n",
    "print(f\"Master: {master_info[0]}:{master_info[1]}\")\n",
    "print_memory_info(master_client)\n",
    "\n",
    "print_eviction_policy(master_client)\n",
    "\n",
    "slaves = sentinel.discover_slaves('mymaster')\n",
    "for slave_host, slave_port in slaves:\n",
    "    print(f\"\\nSlave: {slave_host}:{slave_port}\")\n",
    "    slave_client = redis.Redis(host=slave_host, port=slave_port, socket_timeout=0.1)    \n",
    "    print_memory_info(slave_client)\n",
    "    print_eviction_policy(slave_client)"
   ]
  },
  {
   "cell_type": "code",
   "execution_count": 8,
   "id": "fe78ab27",
   "metadata": {},
   "outputs": [
    {
     "name": "stdout",
     "output_type": "stream",
     "text": [
      "Write/read test_key_0, evicted: 60\n",
      "Write/read test_key_1, evicted: 61\n",
      "Write/read test_key_2, evicted: 62\n",
      "Write/read test_key_3, evicted: 63\n",
      "Write/read test_key_4, evicted: 64\n",
      "Write/read test_key_5, evicted: 65\n",
      "Write/read test_key_6, evicted: 66\n",
      "Write/read test_key_7, evicted: 67\n",
      "Write/read test_key_8, evicted: 68\n",
      "Write/read test_key_9, evicted: 69\n",
      "Write/read test_key_10, evicted: 70\n",
      "Write/read test_key_11, evicted: 71\n",
      "Write/read test_key_12, evicted: 72\n",
      "Write/read test_key_13, evicted: 73\n",
      "Write/read test_key_14, evicted: 74\n",
      "Write/read test_key_15, evicted: 75\n",
      "Write/read test_key_16, evicted: 76\n",
      "Write/read test_key_17, evicted: 77\n",
      "Write/read test_key_18, evicted: 78\n",
      "Write/read test_key_19, evicted: 79\n"
     ]
    }
   ],
   "source": [
    "for i in range(20):\n",
    "    key = 'test_key_' + str(i)\n",
    "    try:\n",
    "        write_result = master_client.set(key, 'x' * 1024 * 100)  # 1KB of 'x' characters        \n",
    "        read_result = master_client.get(key)\n",
    "        print(f\"Write/read {key}, evicted: {get_evicted_cnt(master_client)}\")\n",
    "    except Exception as e:\n",
    "        print(f\"Error writing {key} to Redis: {e}\")\n"
   ]
  }
 ],
 "metadata": {
  "kernelspec": {
   "display_name": "Python 3 (ipykernel)",
   "language": "python",
   "name": "python3"
  },
  "language_info": {
   "codemirror_mode": {
    "name": "ipython",
    "version": 3
   },
   "file_extension": ".py",
   "mimetype": "text/x-python",
   "name": "python",
   "nbconvert_exporter": "python",
   "pygments_lexer": "ipython3",
   "version": "3.11.11"
  }
 },
 "nbformat": 4,
 "nbformat_minor": 5
}
